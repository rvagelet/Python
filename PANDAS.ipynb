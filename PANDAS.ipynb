{
  "nbformat": 4,
  "nbformat_minor": 0,
  "metadata": {
    "colab": {
      "provenance": [],
      "authorship_tag": "ABX9TyNXzUlB08KCFlw1EbHQ1Eyn",
      "include_colab_link": true
    },
    "kernelspec": {
      "name": "python3",
      "display_name": "Python 3"
    },
    "language_info": {
      "name": "python"
    }
  },
  "cells": [
    {
      "cell_type": "markdown",
      "metadata": {
        "id": "view-in-github",
        "colab_type": "text"
      },
      "source": [
        "<a href=\"https://colab.research.google.com/github/rvagelet/Python/blob/main/PANDAS.ipynb\" target=\"_parent\"><img src=\"https://colab.research.google.com/assets/colab-badge.svg\" alt=\"Open In Colab\"/></a>"
      ]
    },
    {
      "cell_type": "code",
      "source": [
        "!pip install pandas\n"
      ],
      "metadata": {
        "colab": {
          "base_uri": "https://localhost:8080/"
        },
        "id": "xAXAlQlpPfOW",
        "outputId": "c603f5d1-aa73-4fb3-d038-370da63cea8d"
      },
      "execution_count": 2,
      "outputs": [
        {
          "output_type": "stream",
          "name": "stdout",
          "text": [
            "Requirement already satisfied: pandas in /usr/local/lib/python3.10/dist-packages (2.0.3)\n",
            "Requirement already satisfied: python-dateutil>=2.8.2 in /usr/local/lib/python3.10/dist-packages (from pandas) (2.8.2)\n",
            "Requirement already satisfied: pytz>=2020.1 in /usr/local/lib/python3.10/dist-packages (from pandas) (2023.4)\n",
            "Requirement already satisfied: tzdata>=2022.1 in /usr/local/lib/python3.10/dist-packages (from pandas) (2024.1)\n",
            "Requirement already satisfied: numpy>=1.21.0 in /usr/local/lib/python3.10/dist-packages (from pandas) (1.25.2)\n",
            "Requirement already satisfied: six>=1.5 in /usr/local/lib/python3.10/dist-packages (from python-dateutil>=2.8.2->pandas) (1.16.0)\n"
          ]
        }
      ]
    },
    {
      "cell_type": "code",
      "source": [
        "!python --version\n"
      ],
      "metadata": {
        "colab": {
          "base_uri": "https://localhost:8080/"
        },
        "id": "xeoSz-_0Pqu1",
        "outputId": "7cd56577-fcbf-4dfc-c7cf-eb113406ffc9"
      },
      "execution_count": 7,
      "outputs": [
        {
          "output_type": "stream",
          "name": "stdout",
          "text": [
            "Python 3.10.12\n"
          ]
        }
      ]
    },
    {
      "cell_type": "code",
      "source": [
        "!apt-get install python3.12"
      ],
      "metadata": {
        "colab": {
          "base_uri": "https://localhost:8080/"
        },
        "id": "kapqcaiFQLQY",
        "outputId": "851d2754-1b50-4e93-9a27-23bf7268c553"
      },
      "execution_count": 8,
      "outputs": [
        {
          "output_type": "stream",
          "name": "stdout",
          "text": [
            "Reading package lists... Done\n",
            "Building dependency tree... Done\n",
            "Reading state information... Done\n",
            "The following additional packages will be installed:\n",
            "  libpython3.12-minimal libpython3.12-stdlib mailcap mime-support python3.12-minimal\n",
            "Suggested packages:\n",
            "  python3.12-venv binfmt-support\n",
            "The following NEW packages will be installed:\n",
            "  libpython3.12-minimal libpython3.12-stdlib mailcap mime-support python3.12 python3.12-minimal\n",
            "0 upgraded, 6 newly installed, 0 to remove and 45 not upgraded.\n",
            "Need to get 6,135 kB of archives.\n",
            "After this operation, 23.3 MB of additional disk space will be used.\n",
            "Get:1 http://archive.ubuntu.com/ubuntu jammy/main amd64 mailcap all 3.70+nmu1ubuntu1 [23.8 kB]\n",
            "Get:2 http://archive.ubuntu.com/ubuntu jammy/main amd64 mime-support all 3.66 [3,696 B]\n",
            "Get:3 https://ppa.launchpadcontent.net/deadsnakes/ppa/ubuntu jammy/main amd64 libpython3.12-minimal amd64 3.12.4-1+jammy1 [877 kB]\n",
            "Get:4 https://ppa.launchpadcontent.net/deadsnakes/ppa/ubuntu jammy/main amd64 python3.12-minimal amd64 3.12.4-1+jammy1 [2,492 kB]\n",
            "Get:5 https://ppa.launchpadcontent.net/deadsnakes/ppa/ubuntu jammy/main amd64 libpython3.12-stdlib amd64 3.12.4-1+jammy1 [2,037 kB]\n",
            "Get:6 https://ppa.launchpadcontent.net/deadsnakes/ppa/ubuntu jammy/main amd64 python3.12 amd64 3.12.4-1+jammy1 [702 kB]\n",
            "Fetched 6,135 kB in 2s (3,520 kB/s)\n",
            "Selecting previously unselected package libpython3.12-minimal:amd64.\n",
            "(Reading database ... 121926 files and directories currently installed.)\n",
            "Preparing to unpack .../0-libpython3.12-minimal_3.12.4-1+jammy1_amd64.deb ...\n",
            "Unpacking libpython3.12-minimal:amd64 (3.12.4-1+jammy1) ...\n",
            "Selecting previously unselected package python3.12-minimal.\n",
            "Preparing to unpack .../1-python3.12-minimal_3.12.4-1+jammy1_amd64.deb ...\n",
            "Unpacking python3.12-minimal (3.12.4-1+jammy1) ...\n",
            "Selecting previously unselected package mailcap.\n",
            "Preparing to unpack .../2-mailcap_3.70+nmu1ubuntu1_all.deb ...\n",
            "Unpacking mailcap (3.70+nmu1ubuntu1) ...\n",
            "Selecting previously unselected package mime-support.\n",
            "Preparing to unpack .../3-mime-support_3.66_all.deb ...\n",
            "Unpacking mime-support (3.66) ...\n",
            "Selecting previously unselected package libpython3.12-stdlib:amd64.\n",
            "Preparing to unpack .../4-libpython3.12-stdlib_3.12.4-1+jammy1_amd64.deb ...\n",
            "Unpacking libpython3.12-stdlib:amd64 (3.12.4-1+jammy1) ...\n",
            "Selecting previously unselected package python3.12.\n",
            "Preparing to unpack .../5-python3.12_3.12.4-1+jammy1_amd64.deb ...\n",
            "Unpacking python3.12 (3.12.4-1+jammy1) ...\n",
            "Setting up libpython3.12-minimal:amd64 (3.12.4-1+jammy1) ...\n",
            "Setting up mailcap (3.70+nmu1ubuntu1) ...\n",
            "Setting up python3.12-minimal (3.12.4-1+jammy1) ...\n",
            "Setting up mime-support (3.66) ...\n",
            "Setting up libpython3.12-stdlib:amd64 (3.12.4-1+jammy1) ...\n",
            "Setting up python3.12 (3.12.4-1+jammy1) ...\n",
            "Processing triggers for man-db (2.10.2-1) ...\n"
          ]
        }
      ]
    },
    {
      "cell_type": "code",
      "execution_count": 1,
      "metadata": {
        "id": "RP5Qal6fPHs2"
      },
      "outputs": [],
      "source": [
        "import pandas as pd"
      ]
    },
    {
      "cell_type": "code",
      "source": [
        "!python3.12 --version"
      ],
      "metadata": {
        "colab": {
          "base_uri": "https://localhost:8080/"
        },
        "id": "srnplrR4QWTD",
        "outputId": "7682edc2-96fc-4f2c-9dab-c359cb2e5cf6"
      },
      "execution_count": 9,
      "outputs": [
        {
          "output_type": "stream",
          "name": "stdout",
          "text": [
            "Python 3.12.4\n"
          ]
        }
      ]
    },
    {
      "cell_type": "code",
      "source": [
        "pandas sirve para trabajar con datos, y tenemos tres tipos de estructuras, la primera\n",
        "serian SERIES = estructuras de una dimension, llevan su indice asociado\n",
        "las segundas, DATAFRAMES = estructuras de dos dimensiones, al estilo tabla de una base de datos\n",
        "y luego tenemos, PANELES = estructuras de tres dimensiones, como cubos.\n",
        "\n",
        "Vamos a crear una serie de momento lo vamos a hacer de manera manual, las series son homogeneas, es decir tienen el mismo tipo de datos,\n",
        "todo texto o todo número o todo fechas"
      ],
      "metadata": {
        "id": "MakRhhSBQjwt"
      },
      "execution_count": null,
      "outputs": []
    },
    {
      "cell_type": "markdown",
      "source": [],
      "metadata": {
        "id": "7ivvKQ5KQiW5"
      }
    },
    {
      "cell_type": "code",
      "source": [
        "#vamos a crear una serie de PANDAS (funcion[serie de cosas])\n",
        "semana = pd. Series([\"lunes\", \"martes\",\"miercoles\",\"jueves\",\"viernes\"],dtype='string')\n",
        "print(semana)\n"
      ],
      "metadata": {
        "colab": {
          "base_uri": "https://localhost:8080/"
        },
        "id": "3X8SdUkVRWUT",
        "outputId": "9bf72491-3ef2-4f42-e755-cbbbaadd93cd"
      },
      "execution_count": 11,
      "outputs": [
        {
          "output_type": "stream",
          "name": "stdout",
          "text": [
            "0        lunes\n",
            "1       martes\n",
            "2    miercoles\n",
            "3       jueves\n",
            "4      viernes\n",
            "dtype: string\n"
          ]
        }
      ]
    },
    {
      "cell_type": "code",
      "source": [
        "#como ver un elemento de una serie\n",
        "semana[0]"
      ],
      "metadata": {
        "colab": {
          "base_uri": "https://localhost:8080/",
          "height": 35
        },
        "id": "IQjZHgpDR-mT",
        "outputId": "8cd4fcd1-155b-403c-c230-55e43b897158"
      },
      "execution_count": 12,
      "outputs": [
        {
          "output_type": "execute_result",
          "data": {
            "text/plain": [
              "'lunes'"
            ],
            "application/vnd.google.colaboratory.intrinsic+json": {
              "type": "string"
            }
          },
          "metadata": {},
          "execution_count": 12
        }
      ]
    },
    {
      "cell_type": "code",
      "source": [
        "numeros = [12,58,63,47,81,35]\n",
        "sn = pd.Series(data=numeros)         #serie de numeros= panda\n",
        "print(sn)"
      ],
      "metadata": {
        "colab": {
          "base_uri": "https://localhost:8080/"
        },
        "id": "mTxwGPNeSdBh",
        "outputId": "50a3ca93-0c9a-44eb-e619-4106b3c1fe1e"
      },
      "execution_count": 13,
      "outputs": [
        {
          "output_type": "stream",
          "name": "stdout",
          "text": [
            "0    12\n",
            "1    58\n",
            "2    63\n",
            "3    47\n",
            "4    81\n",
            "5    35\n",
            "dtype: int64\n"
          ]
        }
      ]
    },
    {
      "cell_type": "code",
      "source": [
        "#funciones asociadas a una serie, SIZE #tamaño de la serie\n",
        "sn.size"
      ],
      "metadata": {
        "colab": {
          "base_uri": "https://localhost:8080/"
        },
        "id": "U0dgBgPJTAou",
        "outputId": "e2595963-b290-4706-a59e-2d342a57c5c3"
      },
      "execution_count": 14,
      "outputs": [
        {
          "output_type": "execute_result",
          "data": {
            "text/plain": [
              "6"
            ]
          },
          "metadata": {},
          "execution_count": 14
        }
      ]
    },
    {
      "cell_type": "code",
      "source": [
        "#como hacer la suma de una serie con valores numericos, con sum\n",
        "print(\"El importe total es\", sn.sum())"
      ],
      "metadata": {
        "colab": {
          "base_uri": "https://localhost:8080/"
        },
        "id": "1pqxFvgsTgIF",
        "outputId": "c9e2b966-9b9a-49c3-c587-e52ec68e96b9"
      },
      "execution_count": 15,
      "outputs": [
        {
          "output_type": "stream",
          "name": "stdout",
          "text": [
            "El importe total es 296\n"
          ]
        }
      ]
    },
    {
      "cell_type": "code",
      "source": [
        "#como hacer el promedio de una serie, con MEAN\n",
        "print(\"El promedio de importe es\", round(sn.mean(),2))"
      ],
      "metadata": {
        "colab": {
          "base_uri": "https://localhost:8080/"
        },
        "id": "OtwXWOJvUAtE",
        "outputId": "97437ff8-f0ce-444d-e428-fcc2ac3e8e7c"
      },
      "execution_count": 19,
      "outputs": [
        {
          "output_type": "stream",
          "name": "stdout",
          "text": [
            "El promedio de importe es 49.33\n"
          ]
        }
      ]
    },
    {
      "cell_type": "code",
      "source": [
        "#como hacer el valor mas grande\n",
        "print(\"El valor mas grande es\",sn.max())"
      ],
      "metadata": {
        "colab": {
          "base_uri": "https://localhost:8080/"
        },
        "id": "xsP5OMHAUdzj",
        "outputId": "ea6337f0-27c9-4732-8d60-6e0d98cefc05"
      },
      "execution_count": 20,
      "outputs": [
        {
          "output_type": "stream",
          "name": "stdout",
          "text": [
            "El valor mas grande es 81\n"
          ]
        }
      ]
    },
    {
      "cell_type": "code",
      "source": [
        "#como hacer el valor mas pequeño\n",
        "print(\"El valor mas pequeño es\",sn.min())"
      ],
      "metadata": {
        "colab": {
          "base_uri": "https://localhost:8080/"
        },
        "id": "yJI83PFPU4Ij",
        "outputId": "78620026-0001-4c9e-be04-0d23fea2fdbe"
      },
      "execution_count": 21,
      "outputs": [
        {
          "output_type": "stream",
          "name": "stdout",
          "text": [
            "El valor mas pequeño es 12\n"
          ]
        }
      ]
    },
    {
      "cell_type": "code",
      "source": [
        "#como ver la suma acumulada de valores, con cumsum\n",
        "print(sn.cumsum())"
      ],
      "metadata": {
        "colab": {
          "base_uri": "https://localhost:8080/"
        },
        "id": "6aI9IkL5VHJ3",
        "outputId": "3de049a7-d10b-4322-ff74-4d19b2f06c65"
      },
      "execution_count": 22,
      "outputs": [
        {
          "output_type": "stream",
          "name": "stdout",
          "text": [
            "0     12\n",
            "1     70\n",
            "2    133\n",
            "3    180\n",
            "4    261\n",
            "5    296\n",
            "dtype: int64\n"
          ]
        }
      ]
    }
  ]
}