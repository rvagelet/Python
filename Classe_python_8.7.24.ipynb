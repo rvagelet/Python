{
 "cells": [
  {
   "cell_type": "code",
   "execution_count": 164,
   "metadata": {},
   "outputs": [
    {
     "data": {
      "text/plain": [
       "5"
      ]
     },
     "execution_count": 164,
     "metadata": {},
     "output_type": "execute_result"
    }
   ],
   "source": [
    "#Con la almohadilla hacemos una linea de comentario\n",
    "#es una línia de codigo que no se ejecuta\n",
    "#las variables son objetos que almacenan temporalmente\n",
    "#un valor\n",
    "x=3\n",
    "x+2"
   ]
  },
  {
   "cell_type": "code",
   "execution_count": 165,
   "metadata": {},
   "outputs": [
    {
     "data": {
      "text/plain": [
       "6"
      ]
     },
     "execution_count": 165,
     "metadata": {},
     "output_type": "execute_result"
    }
   ],
   "source": [
    "x+3"
   ]
  },
  {
   "cell_type": "markdown",
   "metadata": {},
   "source": [
    "La celda Markdown es para escribir texto unicamente"
   ]
  },
  {
   "cell_type": "code",
   "execution_count": 166,
   "metadata": {},
   "outputs": [
    {
     "data": {
      "text/plain": [
       "7"
      ]
     },
     "execution_count": 166,
     "metadata": {},
     "output_type": "execute_result"
    }
   ],
   "source": [
    "#Python tiene en cuenta mayus de minus\n",
    "X=4\n",
    "x+X"
   ]
  },
  {
   "cell_type": "code",
   "execution_count": 167,
   "metadata": {},
   "outputs": [
    {
     "name": "stdout",
     "output_type": "stream",
     "text": [
      "Lunes\n",
      "Martes\n"
     ]
    }
   ],
   "source": [
    "#Como asignar un texto a una variable, mediante comillas simples o dobles\n",
    "dia='Lunes'\n",
    "dia2=\"Martes\"\n",
    "print(dia)\n",
    "print(dia2)"
   ]
  },
  {
   "cell_type": "code",
   "execution_count": 168,
   "metadata": {},
   "outputs": [
    {
     "name": "stdout",
     "output_type": "stream",
     "text": [
      "3\n",
      "4\n",
      "6\n"
     ]
    }
   ],
   "source": [
    "#Como imprimir todas las lineas que quiero, con la funcion print\n",
    "#funcion codigo que devuelve un resultado\n",
    "print(x)\n",
    "print(X)\n",
    "print(x+3)"
   ]
  },
  {
   "cell_type": "code",
   "execution_count": 169,
   "metadata": {},
   "outputs": [
    {
     "name": "stdout",
     "output_type": "stream",
     "text": [
      "hoy es Lunes ya falta menos para viernes\n"
     ]
    }
   ],
   "source": [
    "#con la coma, la funcion print concatena los parametros con un espacio en blanco\n",
    "print(\"hoy es\",dia,\"ya falta menos para viernes\")"
   ]
  },
  {
   "cell_type": "code",
   "execution_count": 170,
   "metadata": {},
   "outputs": [],
   "source": [
    "#Como reasignar una variable\n",
    "#POdemos darle un nuevo valor y me ejecutara a partir de aqui el valor diferente\n",
    "x=5"
   ]
  },
  {
   "cell_type": "code",
   "execution_count": 171,
   "metadata": {},
   "outputs": [
    {
     "name": "stdout",
     "output_type": "stream",
     "text": [
      "5\n"
     ]
    }
   ],
   "source": [
    "print (x)"
   ]
  },
  {
   "cell_type": "markdown",
   "metadata": {},
   "source": [
    "Las listas en python son objetos que almacenan temporalmente varios valores. "
   ]
  },
  {
   "cell_type": "code",
   "execution_count": 172,
   "metadata": {},
   "outputs": [
    {
     "name": "stdout",
     "output_type": "stream",
     "text": [
      "['leche', 'pescado', 'pan', 'nutella', 4, 15, 'cerveza']\n"
     ]
    }
   ],
   "source": [
    "#LISTA, tuplas y diccionarios\n",
    "#esto es como un array\n",
    "milista=[\"leche\",\"pescado\",\"pan\",\"nutella\",4,15,\"cerveza\"]\n",
    "print(milista)"
   ]
  },
  {
   "cell_type": "code",
   "execution_count": 173,
   "metadata": {},
   "outputs": [
    {
     "data": {
      "text/plain": [
       "'leche'"
      ]
     },
     "execution_count": 173,
     "metadata": {},
     "output_type": "execute_result"
    }
   ],
   "source": [
    "#Como acceder a un elemento de la lista mediante su indice, en python los indices empiezan por 0\n",
    "milista[0]"
   ]
  },
  {
   "cell_type": "code",
   "execution_count": 174,
   "metadata": {},
   "outputs": [
    {
     "name": "stdout",
     "output_type": "stream",
     "text": [
      "5\n",
      "el numero de elementos de mi lista es 7\n"
     ]
    }
   ],
   "source": [
    "#Una funcion que nos da el número de caracteres de una lista o variable.\n",
    "#la funcion len\n",
    "print(len(milista[0]))\n",
    "print(\"el numero de elementos de mi lista es\",len(milista))"
   ]
  },
  {
   "cell_type": "code",
   "execution_count": 175,
   "metadata": {},
   "outputs": [
    {
     "data": {
      "text/plain": [
       "['leche', 'pescado', 'pan', 'nutella', 4, 15, 'cerveza', 'Sardinas']"
      ]
     },
     "execution_count": 175,
     "metadata": {},
     "output_type": "execute_result"
    }
   ],
   "source": [
    "#Como añadir un elemento a una lista, tendremos dos opciones: con la funcion append o insert\n",
    "#append nos añadirá siempre al final de la lista\n",
    "#insert nos añadira donde le digamos\n",
    "milista.append(\"Sardinas\")\n",
    "milista\n",
    "#al nomes tenir una linia no cal posar print\n"
   ]
  },
  {
   "cell_type": "code",
   "execution_count": 176,
   "metadata": {},
   "outputs": [
    {
     "data": {
      "text/plain": [
       "['leche',\n",
       " 'chocolate',\n",
       " 'pescado',\n",
       " 'pan',\n",
       " 'nutella',\n",
       " 4,\n",
       " 15,\n",
       " 'cerveza',\n",
       " 'Sardinas']"
      ]
     },
     "execution_count": 176,
     "metadata": {},
     "output_type": "execute_result"
    }
   ],
   "source": [
    "milista.insert(1,\"chocolate\")\n",
    "milista"
   ]
  },
  {
   "cell_type": "code",
   "execution_count": 177,
   "metadata": {},
   "outputs": [
    {
     "data": {
      "text/plain": [
       "1"
      ]
     },
     "execution_count": 177,
     "metadata": {},
     "output_type": "execute_result"
    }
   ],
   "source": [
    "#para contar con la funcion count\n",
    "milista.count(\"chocolate\")"
   ]
  },
  {
   "cell_type": "code",
   "execution_count": 178,
   "metadata": {},
   "outputs": [],
   "source": [
    "#Como elimminar un elemento de una lista, 2 opciones: o con remove o con del\n",
    "#Con remove me elimina simepre el primero que encuentra\n",
    "#con del puedo elegir cual\n",
    "milista.remove(\"chocolate\")"
   ]
  },
  {
   "cell_type": "code",
   "execution_count": 179,
   "metadata": {},
   "outputs": [
    {
     "data": {
      "text/plain": [
       "['leche', 'pescado', 'nutella', 4, 15, 'cerveza', 'Sardinas']"
      ]
     },
     "execution_count": 179,
     "metadata": {},
     "output_type": "execute_result"
    }
   ],
   "source": [
    "del milista[2]\n",
    "milista"
   ]
  },
  {
   "cell_type": "markdown",
   "metadata": {},
   "source": [
    "#Practica 1: Crearemos una lista llamada semana, que tendra los días de lunes a viernes menos el jueves, despues añadiremos el sábado y el domingo a la lista, y después pondremos el jueves en su lugar correspondiente. Después añadiremos dos veces viernes. Y en una variable almacenaremos cuantos viernes hay en la lista. Despues eliminar los viernes sobrantes para que me quede la semana de lunes a domingo. Y despues con un texto ver el número de viernes que tiene la variable (el numero de viernes que habia eran tantos)"
   ]
  },
  {
   "cell_type": "code",
   "execution_count": 180,
   "metadata": {},
   "outputs": [
    {
     "name": "stdout",
     "output_type": "stream",
     "text": [
      "['lunes', 'martes', 'miercoles', 'viernes']\n",
      "['lunes', 'martes', 'miercoles', 'viernes', 'sabado']\n",
      "['lunes', 'martes', 'miercoles', 'viernes', 'sabado', 'domingo']\n",
      "['lunes', 'martes', 'miercoles', 'jueves', 'viernes', 'sabado', 'domingo']\n",
      "['lunes', 'martes', 'miercoles', 'jueves', 'viernes', 'sabado', 'domingo', 'viernes', 'viernes']\n",
      "['lunes', 'martes', 'miercoles', 'jueves', 'viernes', 'sabado', 'domingo', 'viernes', 'viernes']\n",
      "['lunes', 'martes', 'miercoles', 'jueves', 'viernes', 'sabado', 'domingo']\n",
      "El numero de viernes que habia eran 3\n"
     ]
    }
   ],
   "source": [
    "milistasemana=[\"lunes\",\"martes\",\"miercoles\",\"viernes\"]\n",
    "print(milistasemana)\n",
    "milistasemana.append(\"sabado\")\n",
    "print(milistasemana)\n",
    "milistasemana.append(\"domingo\")\n",
    "print(milistasemana)\n",
    "milistasemana.insert(3,\"jueves\")\n",
    "print(milistasemana)\n",
    "milistasemana.append(\"viernes\")\n",
    "milistasemana.append(\"viernes\")\n",
    "print(milistasemana)\n",
    "numero_viernes = milistasemana.count(\"viernes\")\n",
    "print(milistasemana)\n",
    "del milistasemana[7:]\n",
    "print(milistasemana)\n",
    "print(\"El numero de viernes que habia eran\",numero_viernes)\n",
    "\n"
   ]
  },
  {
   "cell_type": "code",
   "execution_count": 181,
   "metadata": {},
   "outputs": [
    {
     "name": "stdout",
     "output_type": "stream",
     "text": [
      "[0, 1, 2, 3, 4]\n"
     ]
    }
   ],
   "source": [
    "#las listas numericas\n",
    "numeros = [0,1,2,3,4]\n",
    "print(numeros)"
   ]
  },
  {
   "cell_type": "code",
   "execution_count": 182,
   "metadata": {},
   "outputs": [
    {
     "data": {
      "text/plain": [
       "[0, 1, 2, 3, 4]"
      ]
     },
     "execution_count": 182,
     "metadata": {},
     "output_type": "execute_result"
    }
   ],
   "source": [
    "#una funcion para generar numeros, se llama range, \n",
    "#con 5 elementos empieza por 0 y termina en 4, porque se incrementa de 1 en 1, \n",
    "#con la funcion veo los valores de la lista\n",
    "numeros2 = range(5)\n",
    "list (numeros2)"
   ]
  },
  {
   "cell_type": "code",
   "execution_count": 183,
   "metadata": {},
   "outputs": [
    {
     "data": {
      "text/plain": [
       "[16, 18, 20, 22, 24, 26, 28, 30]"
      ]
     },
     "execution_count": 183,
     "metadata": {},
     "output_type": "execute_result"
    }
   ],
   "source": [
    "#en range podemos tener el valor inicial, el valor final menos 1, el step el salto\n",
    "#empezamos con el 16, y hacemos saltos de dos en dos (step, que es el tercer numero)\n",
    "numeros3 = range(16,32,2)\n",
    "list(numeros3)"
   ]
  },
  {
   "cell_type": "code",
   "execution_count": 184,
   "metadata": {},
   "outputs": [
    {
     "data": {
      "text/plain": [
       "[32, 30, 28, 26, 24, 22, 20, 18]"
      ]
     },
     "execution_count": 184,
     "metadata": {},
     "output_type": "execute_result"
    }
   ],
   "source": [
    "#en este caso lo hacemos como un decremento\n",
    "numeros4 = range (32, 16,-2)\n",
    "list(numeros4)"
   ]
  },
  {
   "cell_type": "code",
   "execution_count": 185,
   "metadata": {},
   "outputs": [
    {
     "data": {
      "text/plain": [
       "18"
      ]
     },
     "execution_count": 185,
     "metadata": {},
     "output_type": "execute_result"
    }
   ],
   "source": [
    "#Funciones de resumen sobre una lista numerica\n",
    "sum(numeros4)       #con sum sumamos los valores de dentro de la lista\n",
    "max(numeros4)       #con max me da el numero mas grande\n",
    "min(numeros4)       #este me va a dar el valor mas pequeño"
   ]
  },
  {
   "cell_type": "markdown",
   "metadata": {},
   "source": [
    "Los bucles en python\n",
    "¿Que es un bucle?\n",
    "Es un codigo que se repite hasta que se cumple una condición dada. Tenemos dos tipos de bucles: los finitos y los infinitos.\n",
    "Los finitos son aquellos que van a terminar si o si, porque sabemos de antemano el numero de veces que se ejecutaran. El bucle FOR, cada vez que se repite un bucle, se denomina iteracion. El bucle for lleva asociada una variable.\n",
    "\n",
    "Los bucles infinitos puede que terminen o puede que no. Depende si se cumple la condicion o no, el bucle WHILE. Este bucle while no tiene asociada ninguna variable."
   ]
  },
  {
   "cell_type": "code",
   "execution_count": 186,
   "metadata": {},
   "outputs": [
    {
     "name": "stdout",
     "output_type": "stream",
     "text": [
      "Lunes\n",
      "Martes\n",
      "Miercoles\n",
      "Terminado\n"
     ]
    }
   ],
   "source": [
    "#primero poner la palabra clave FOR, despues el nombre de la variable que queremos asociar al bucle. Cuando son numero suele ser i\n",
    "for i in[\"Lunes\", \"Martes\", \"Miercoles\"]:\n",
    "    print (i)\n",
    "print(\"Terminado\")     #para terminar le bucle el print final tiene que estar alineado con la frase inicial"
   ]
  },
  {
   "cell_type": "code",
   "execution_count": 187,
   "metadata": {},
   "outputs": [
    {
     "name": "stdout",
     "output_type": "stream",
     "text": [
      "32\n",
      "30\n",
      "28\n",
      "26\n",
      "24\n",
      "22\n",
      "20\n",
      "18\n"
     ]
    }
   ],
   "source": [
    "for i in numeros4:\n",
    "    print(i)"
   ]
  },
  {
   "cell_type": "code",
   "execution_count": 188,
   "metadata": {},
   "outputs": [
    {
     "name": "stdout",
     "output_type": "stream",
     "text": [
      "el dia es lunes\n",
      "el dia es martes\n",
      "el dia es miercoles\n",
      "el dia es jueves\n",
      "el dia es viernes\n",
      "el dia es sabado\n",
      "el dia es domingo\n",
      "numero de iteraciones 7\n"
     ]
    }
   ],
   "source": [
    "#vamos a necesitar una variable iter (no)\n",
    "iter = 0\n",
    "for dia in milistasemana:\n",
    "    print(\"el dia es\",dia)\n",
    "    iter = iter + 1\n",
    "print(\"numero de iteraciones\",iter)   \n",
    "#efecto contador \n",
    "#cuenta cuantas veces se hace el bucle"
   ]
  },
  {
   "cell_type": "markdown",
   "metadata": {},
   "source": [
    "#Practica 2: Mediante un bucle for, recorrer una lista con los meses del año, y se tiene que mostrar con un texto lo siguiente; el 1 mes del año es enero, el 2 mes del años es febrero,...\n",
    "(variante solo para los mas atrevidos, que me ponga el primer mes del año es enero, el segundo mes del año es febrero)"
   ]
  },
  {
   "cell_type": "code",
   "execution_count": 189,
   "metadata": {},
   "outputs": [
    {
     "name": "stdout",
     "output_type": "stream",
     "text": [
      "El 1 mes del año es enero\n",
      "El 2 mes del año es febrero\n",
      "El 3 mes del año es marzo\n",
      "El 4 mes del año es abril\n",
      "El 5 mes del año es mayo\n",
      "El 6 mes del año es junio\n",
      "El 7 mes del año es julio\n",
      "El 8 mes del año es agosto\n",
      "El 9 mes del año es septiembre\n",
      "El 10 mes del año es octubre\n",
      "El 11 mes del año es noviembre\n",
      "El 12 mes del año es diciembre\n"
     ]
    }
   ],
   "source": [
    "#creo una lista para aprovecharlo mas adelante\n",
    "Meses = [\"enero\",\"febrero\",\"marzo\",\"abril\",\"mayo\",\"junio\",\"julio\",\"agosto\",\"septiembre\",\"octubre\",\"noviembre\",\"diciembre\"]\n",
    "iter = 1\n",
    "for mes in Meses:\n",
    "    print(\"El\",iter, \"mes del año es\", mes)\n",
    "    iter = iter + 1\n"
   ]
  },
  {
   "cell_type": "code",
   "execution_count": 190,
   "metadata": {},
   "outputs": [
    {
     "name": "stdout",
     "output_type": "stream",
     "text": [
      "el 1 mes del año enero\n",
      "el 1 mes del año febrero\n",
      "el 1 mes del año marzo\n",
      "el 1 mes del año abril\n",
      "el 1 mes del año mayo\n",
      "el 1 mes del año junio\n",
      "el 1 mes del año julio\n",
      "el 1 mes del año agosto\n",
      "el 1 mes del año septiembre\n",
      "el 1 mes del año octubre\n",
      "el 1 mes del año noviembre\n",
      "el 1 mes del año diciembre\n"
     ]
    }
   ],
   "source": [
    "for mes in[\"enero\",\"febrero\",\"marzo\",\"abril\",\"mayo\",\"junio\",\"julio\",\"agosto\",\"septiembre\",\"octubre\",\"noviembre\",\"diciembre\"]:\n",
    "    print(\"el 1 mes del año\", mes)"
   ]
  },
  {
   "cell_type": "code",
   "execution_count": 191,
   "metadata": {},
   "outputs": [
    {
     "name": "stdout",
     "output_type": "stream",
     "text": [
      "El primer mes del año es enero\n",
      "El segundo mes del año es febrero\n",
      "El tercer mes del año es marzo\n",
      "El cuarto mes del año es abril\n",
      "El quinto mes del año es mayo\n",
      "El sexto mes del año es junio\n",
      "El septimo mes del año es julio\n",
      "El octavo mes del año es agosto\n",
      "El noveno mes del año es septiembre\n",
      "El decimo mes del año es octubre\n",
      "El undecimo mes del año es noviembre\n",
      "El duodecimo mes del año es diciembre\n"
     ]
    }
   ],
   "source": [
    "Meses = [\"enero\",\"febrero\",\"marzo\",\"abril\",\"mayo\",\"junio\",\"julio\",\"agosto\",\"septiembre\",\"octubre\",\"noviembre\",\"diciembre\"]\n",
    "Cardinal = [\"primer\",\"segundo\",\"tercer\",\"cuarto\",\"quinto\",\"sexto\", \"septimo\", \"octavo\",\"noveno\",\"decimo\",\"undecimo\",\"duodecimo\"]\n",
    "iter = 1\n",
    "for mes in Meses:\n",
    "    print(\"El\", Cardinal [iter-1], \"mes del año es\", mes)\n",
    "    iter = iter+1"
   ]
  },
  {
   "cell_type": "code",
   "execution_count": 192,
   "metadata": {},
   "outputs": [
    {
     "name": "stdout",
     "output_type": "stream",
     "text": [
      "D\n",
      "o\n",
      "m\n",
      "i\n",
      "n\n",
      "g\n",
      "o\n"
     ]
    }
   ],
   "source": [
    "#Con un bucle puedo recorrer los caracters de una palabra\n",
    "palabra = \"Domingo\"\n",
    "for letra in palabra:\n",
    "    print(letra)"
   ]
  },
  {
   "cell_type": "code",
   "execution_count": 193,
   "metadata": {},
   "outputs": [
    {
     "ename": "SyntaxError",
     "evalue": "invalid syntax (2779268373.py, line 5)",
     "output_type": "error",
     "traceback": [
      "\u001b[1;36m  Cell \u001b[1;32mIn[193], line 5\u001b[1;36m\u001b[0m\n\u001b[1;33m    > mayor que --> 8>4 True y 8>12 False\u001b[0m\n\u001b[1;37m    ^\u001b[0m\n\u001b[1;31mSyntaxError\u001b[0m\u001b[1;31m:\u001b[0m invalid syntax\n"
     ]
    }
   ],
   "source": [
    "#Estructuras de decision if\n",
    "#Analiza una condición o prueba logica. Si se cumple ejecuta una parte verdadera. Sino se cumple puedo ejecutar una parte falsa.\n",
    "#Una condicion o prueba logica significa comparar 2 valores mediante un operador de comparacion\n",
    "\n",
    "> mayor que --> 8>4 True y 8>12 False\n",
    "< menor que --> 8<12 True y 8<4 False\n",
    ">= mayor o igual\n",
    "<= menor o igual\n",
    "== igual --> 8==8 True y 8==12 False\n",
    "!= distinto --> 8!=12 True y 8!=8 False"
   ]
  },
  {
   "cell_type": "code",
   "execution_count": null,
   "metadata": {},
   "outputs": [],
   "source": [
    "ciudad = \"barcelona\"\n",
    "if ciudad == \"barcelona\":\n",
    "    #la parte verdadera\n",
    "    print(\"Correcto\")"
   ]
  },
  {
   "cell_type": "code",
   "execution_count": null,
   "metadata": {},
   "outputs": [],
   "source": [
    "ciudad = \"tarragona\"\n",
    "if ciudad == \"barcelona\":\n",
    "    #la parte verdadera\n",
    "    print(\"Correcto\")\n",
    "else:\n",
    "    print(\"No es correcto\")"
   ]
  },
  {
   "cell_type": "code",
   "execution_count": null,
   "metadata": {},
   "outputs": [],
   "source": [
    "#Practica3: Aprovechando la lista Meses y mediante un bucle imprimir todos los meses menos junio\n",
    "\n",
    "#Practica4: Con una lista de numeros igual a 15, 33, 48, 62, 25, 57, 84 y mediante un bucle imprimir solamente los numeros mayores de 40\n",
    "\n",
    "#Practica5: Aprovechando la lista meses y mediante un bucle imprimir todos los meses cuyo numero de caracteres del nombre del mes sea igual a 5"
   ]
  },
  {
   "cell_type": "code",
   "execution_count": 195,
   "metadata": {},
   "outputs": [
    {
     "name": "stdout",
     "output_type": "stream",
     "text": [
      "enero\n",
      "febrero\n",
      "marzo\n",
      "abril\n",
      "mayo\n",
      "julio\n",
      "agosto\n",
      "septiembre\n",
      "octubre\n",
      "noviembre\n",
      "diciembre\n"
     ]
    }
   ],
   "source": [
    "#Practica3\n",
    "for mes in Meses:\n",
    "    if mes!=\"junio\":\n",
    "        print(mes)"
   ]
  },
  {
   "cell_type": "code",
   "execution_count": 203,
   "metadata": {},
   "outputs": [
    {
     "name": "stdout",
     "output_type": "stream",
     "text": [
      "48\n",
      "62\n",
      "57\n",
      "84\n"
     ]
    }
   ],
   "source": [
    "#Practica4\n",
    "Numeros = [15, 33, 48, 62, 25, 57, 84]       #llistat dels numeros donats\n",
    "for nombre in Numeros:                       #per cada nombre que tenim comprovem cada un d'ells amb els numeros donats previament\n",
    "    if nombre > 40:\n",
    "        print(nombre)"
   ]
  },
  {
   "cell_type": "code",
   "execution_count": 204,
   "metadata": {},
   "outputs": [
    {
     "name": "stdout",
     "output_type": "stream",
     "text": [
      "enero\n",
      "marzo\n",
      "abril\n",
      "junio\n",
      "julio\n"
     ]
    }
   ],
   "source": [
    "#Practica5\n",
    "\n",
    "for mes in Meses:\n",
    "    if len(mes)==5:\n",
    "        print(mes)"
   ]
  }
 ],
 "metadata": {
  "kernelspec": {
   "display_name": "Python 3",
   "language": "python",
   "name": "python3"
  },
  "language_info": {
   "codemirror_mode": {
    "name": "ipython",
    "version": 3
   },
   "file_extension": ".py",
   "mimetype": "text/x-python",
   "name": "python",
   "nbconvert_exporter": "python",
   "pygments_lexer": "ipython3",
   "version": "3.12.4"
  }
 },
 "nbformat": 4,
 "nbformat_minor": 2
}
