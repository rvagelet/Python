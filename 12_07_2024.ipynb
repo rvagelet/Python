{
  "nbformat": 4,
  "nbformat_minor": 0,
  "metadata": {
    "colab": {
      "provenance": [],
      "authorship_tag": "ABX9TyNqlTHkxyl8cWYhtpnB04Hy",
      "include_colab_link": true
    },
    "kernelspec": {
      "name": "python3",
      "display_name": "Python 3"
    },
    "language_info": {
      "name": "python"
    }
  },
  "cells": [
    {
      "cell_type": "markdown",
      "metadata": {
        "id": "view-in-github",
        "colab_type": "text"
      },
      "source": [
        "<a href=\"https://colab.research.google.com/github/rvagelet/Python/blob/main/12_07_2024.ipynb\" target=\"_parent\"><img src=\"https://colab.research.google.com/assets/colab-badge.svg\" alt=\"Open In Colab\"/></a>"
      ]
    },
    {
      "cell_type": "code",
      "source": [
        "!pip install pandas\n"
      ],
      "metadata": {
        "colab": {
          "base_uri": "https://localhost:8080/"
        },
        "id": "xAXAlQlpPfOW",
        "outputId": "c603f5d1-aa73-4fb3-d038-370da63cea8d"
      },
      "execution_count": 2,
      "outputs": [
        {
          "output_type": "stream",
          "name": "stdout",
          "text": [
            "Requirement already satisfied: pandas in /usr/local/lib/python3.10/dist-packages (2.0.3)\n",
            "Requirement already satisfied: python-dateutil>=2.8.2 in /usr/local/lib/python3.10/dist-packages (from pandas) (2.8.2)\n",
            "Requirement already satisfied: pytz>=2020.1 in /usr/local/lib/python3.10/dist-packages (from pandas) (2023.4)\n",
            "Requirement already satisfied: tzdata>=2022.1 in /usr/local/lib/python3.10/dist-packages (from pandas) (2024.1)\n",
            "Requirement already satisfied: numpy>=1.21.0 in /usr/local/lib/python3.10/dist-packages (from pandas) (1.25.2)\n",
            "Requirement already satisfied: six>=1.5 in /usr/local/lib/python3.10/dist-packages (from python-dateutil>=2.8.2->pandas) (1.16.0)\n"
          ]
        }
      ]
    },
    {
      "cell_type": "code",
      "source": [
        "!python --version\n"
      ],
      "metadata": {
        "colab": {
          "base_uri": "https://localhost:8080/"
        },
        "id": "xeoSz-_0Pqu1",
        "outputId": "7cd56577-fcbf-4dfc-c7cf-eb113406ffc9"
      },
      "execution_count": 7,
      "outputs": [
        {
          "output_type": "stream",
          "name": "stdout",
          "text": [
            "Python 3.10.12\n"
          ]
        }
      ]
    },
    {
      "cell_type": "code",
      "source": [
        "!apt-get install python3.12"
      ],
      "metadata": {
        "colab": {
          "base_uri": "https://localhost:8080/"
        },
        "id": "kapqcaiFQLQY",
        "outputId": "851d2754-1b50-4e93-9a27-23bf7268c553"
      },
      "execution_count": 8,
      "outputs": [
        {
          "output_type": "stream",
          "name": "stdout",
          "text": [
            "Reading package lists... Done\n",
            "Building dependency tree... Done\n",
            "Reading state information... Done\n",
            "The following additional packages will be installed:\n",
            "  libpython3.12-minimal libpython3.12-stdlib mailcap mime-support python3.12-minimal\n",
            "Suggested packages:\n",
            "  python3.12-venv binfmt-support\n",
            "The following NEW packages will be installed:\n",
            "  libpython3.12-minimal libpython3.12-stdlib mailcap mime-support python3.12 python3.12-minimal\n",
            "0 upgraded, 6 newly installed, 0 to remove and 45 not upgraded.\n",
            "Need to get 6,135 kB of archives.\n",
            "After this operation, 23.3 MB of additional disk space will be used.\n",
            "Get:1 http://archive.ubuntu.com/ubuntu jammy/main amd64 mailcap all 3.70+nmu1ubuntu1 [23.8 kB]\n",
            "Get:2 http://archive.ubuntu.com/ubuntu jammy/main amd64 mime-support all 3.66 [3,696 B]\n",
            "Get:3 https://ppa.launchpadcontent.net/deadsnakes/ppa/ubuntu jammy/main amd64 libpython3.12-minimal amd64 3.12.4-1+jammy1 [877 kB]\n",
            "Get:4 https://ppa.launchpadcontent.net/deadsnakes/ppa/ubuntu jammy/main amd64 python3.12-minimal amd64 3.12.4-1+jammy1 [2,492 kB]\n",
            "Get:5 https://ppa.launchpadcontent.net/deadsnakes/ppa/ubuntu jammy/main amd64 libpython3.12-stdlib amd64 3.12.4-1+jammy1 [2,037 kB]\n",
            "Get:6 https://ppa.launchpadcontent.net/deadsnakes/ppa/ubuntu jammy/main amd64 python3.12 amd64 3.12.4-1+jammy1 [702 kB]\n",
            "Fetched 6,135 kB in 2s (3,520 kB/s)\n",
            "Selecting previously unselected package libpython3.12-minimal:amd64.\n",
            "(Reading database ... 121926 files and directories currently installed.)\n",
            "Preparing to unpack .../0-libpython3.12-minimal_3.12.4-1+jammy1_amd64.deb ...\n",
            "Unpacking libpython3.12-minimal:amd64 (3.12.4-1+jammy1) ...\n",
            "Selecting previously unselected package python3.12-minimal.\n",
            "Preparing to unpack .../1-python3.12-minimal_3.12.4-1+jammy1_amd64.deb ...\n",
            "Unpacking python3.12-minimal (3.12.4-1+jammy1) ...\n",
            "Selecting previously unselected package mailcap.\n",
            "Preparing to unpack .../2-mailcap_3.70+nmu1ubuntu1_all.deb ...\n",
            "Unpacking mailcap (3.70+nmu1ubuntu1) ...\n",
            "Selecting previously unselected package mime-support.\n",
            "Preparing to unpack .../3-mime-support_3.66_all.deb ...\n",
            "Unpacking mime-support (3.66) ...\n",
            "Selecting previously unselected package libpython3.12-stdlib:amd64.\n",
            "Preparing to unpack .../4-libpython3.12-stdlib_3.12.4-1+jammy1_amd64.deb ...\n",
            "Unpacking libpython3.12-stdlib:amd64 (3.12.4-1+jammy1) ...\n",
            "Selecting previously unselected package python3.12.\n",
            "Preparing to unpack .../5-python3.12_3.12.4-1+jammy1_amd64.deb ...\n",
            "Unpacking python3.12 (3.12.4-1+jammy1) ...\n",
            "Setting up libpython3.12-minimal:amd64 (3.12.4-1+jammy1) ...\n",
            "Setting up mailcap (3.70+nmu1ubuntu1) ...\n",
            "Setting up python3.12-minimal (3.12.4-1+jammy1) ...\n",
            "Setting up mime-support (3.66) ...\n",
            "Setting up libpython3.12-stdlib:amd64 (3.12.4-1+jammy1) ...\n",
            "Setting up python3.12 (3.12.4-1+jammy1) ...\n",
            "Processing triggers for man-db (2.10.2-1) ...\n"
          ]
        }
      ]
    },
    {
      "cell_type": "code",
      "execution_count": 1,
      "metadata": {
        "id": "RP5Qal6fPHs2"
      },
      "outputs": [],
      "source": [
        "import pandas as pd"
      ]
    },
    {
      "cell_type": "code",
      "source": [
        "!python3.12 --version"
      ],
      "metadata": {
        "colab": {
          "base_uri": "https://localhost:8080/"
        },
        "id": "srnplrR4QWTD",
        "outputId": "7682edc2-96fc-4f2c-9dab-c359cb2e5cf6"
      },
      "execution_count": 9,
      "outputs": [
        {
          "output_type": "stream",
          "name": "stdout",
          "text": [
            "Python 3.12.4\n"
          ]
        }
      ]
    },
    {
      "cell_type": "code",
      "source": [
        "pandas sirve para trabajar con datos, y tenemos tres tipos de estructuras, la primera\n",
        "serian SERIES = estructuras de una dimension, llevan su indice asociado\n",
        "las segundas, DATAFRAMES = estructuras de dos dimensiones, al estilo tabla de una base de datos\n",
        "y luego tenemos, PANELES = estructuras de tres dimensiones, como cubos.\n",
        "\n",
        "Vamos a crear una serie de momento lo vamos a hacer de manera manual, las series son homogeneas, es decir tienen el mismo tipo de datos,\n",
        "todo texto o todo número o todo fechas"
      ],
      "metadata": {
        "id": "MakRhhSBQjwt"
      },
      "execution_count": null,
      "outputs": []
    },
    {
      "cell_type": "markdown",
      "source": [],
      "metadata": {
        "id": "7ivvKQ5KQiW5"
      }
    },
    {
      "cell_type": "code",
      "source": [
        "#vamos a crear una serie de PANDAS (funcion[serie de cosas])\n",
        "semana = pd. Series([\"lunes\", \"martes\",\"miercoles\",\"jueves\",\"viernes\"],dtype='string')\n",
        "print(semana)\n"
      ],
      "metadata": {
        "colab": {
          "base_uri": "https://localhost:8080/"
        },
        "id": "3X8SdUkVRWUT",
        "outputId": "9bf72491-3ef2-4f42-e755-cbbbaadd93cd"
      },
      "execution_count": 11,
      "outputs": [
        {
          "output_type": "stream",
          "name": "stdout",
          "text": [
            "0        lunes\n",
            "1       martes\n",
            "2    miercoles\n",
            "3       jueves\n",
            "4      viernes\n",
            "dtype: string\n"
          ]
        }
      ]
    },
    {
      "cell_type": "code",
      "source": [
        "#como ver un elemento de una serie\n",
        "semana[0]"
      ],
      "metadata": {
        "colab": {
          "base_uri": "https://localhost:8080/",
          "height": 36
        },
        "id": "IQjZHgpDR-mT",
        "outputId": "8cd4fcd1-155b-403c-c230-55e43b897158"
      },
      "execution_count": 12,
      "outputs": [
        {
          "output_type": "execute_result",
          "data": {
            "text/plain": [
              "'lunes'"
            ],
            "application/vnd.google.colaboratory.intrinsic+json": {
              "type": "string"
            }
          },
          "metadata": {},
          "execution_count": 12
        }
      ]
    },
    {
      "cell_type": "code",
      "source": [
        "numeros = [12,58,63,47,81,35]\n",
        "sn = pd.Series(data=numeros)         #serie de numeros= panda\n",
        "print(sn)"
      ],
      "metadata": {
        "colab": {
          "base_uri": "https://localhost:8080/"
        },
        "id": "mTxwGPNeSdBh",
        "outputId": "50a3ca93-0c9a-44eb-e619-4106b3c1fe1e"
      },
      "execution_count": 13,
      "outputs": [
        {
          "output_type": "stream",
          "name": "stdout",
          "text": [
            "0    12\n",
            "1    58\n",
            "2    63\n",
            "3    47\n",
            "4    81\n",
            "5    35\n",
            "dtype: int64\n"
          ]
        }
      ]
    },
    {
      "cell_type": "code",
      "source": [
        "#funciones asociadas a una serie, SIZE #tamaño de la serie\n",
        "sn.size"
      ],
      "metadata": {
        "colab": {
          "base_uri": "https://localhost:8080/"
        },
        "id": "U0dgBgPJTAou",
        "outputId": "e2595963-b290-4706-a59e-2d342a57c5c3"
      },
      "execution_count": 14,
      "outputs": [
        {
          "output_type": "execute_result",
          "data": {
            "text/plain": [
              "6"
            ]
          },
          "metadata": {},
          "execution_count": 14
        }
      ]
    },
    {
      "cell_type": "code",
      "source": [
        "#como hacer la suma de una serie con valores numericos, con sum\n",
        "print(\"El importe total es\", sn.sum())"
      ],
      "metadata": {
        "colab": {
          "base_uri": "https://localhost:8080/"
        },
        "id": "1pqxFvgsTgIF",
        "outputId": "c9e2b966-9b9a-49c3-c587-e52ec68e96b9"
      },
      "execution_count": 15,
      "outputs": [
        {
          "output_type": "stream",
          "name": "stdout",
          "text": [
            "El importe total es 296\n"
          ]
        }
      ]
    },
    {
      "cell_type": "code",
      "source": [
        "#como hacer el promedio de una serie, con MEAN\n",
        "print(\"El promedio de importe es\", round(sn.mean(),2))"
      ],
      "metadata": {
        "colab": {
          "base_uri": "https://localhost:8080/"
        },
        "id": "OtwXWOJvUAtE",
        "outputId": "97437ff8-f0ce-444d-e428-fcc2ac3e8e7c"
      },
      "execution_count": 19,
      "outputs": [
        {
          "output_type": "stream",
          "name": "stdout",
          "text": [
            "El promedio de importe es 49.33\n"
          ]
        }
      ]
    },
    {
      "cell_type": "code",
      "source": [
        "#como hacer el valor mas grande\n",
        "print(\"El valor mas grande es\",sn.max())"
      ],
      "metadata": {
        "colab": {
          "base_uri": "https://localhost:8080/"
        },
        "id": "xsP5OMHAUdzj",
        "outputId": "ea6337f0-27c9-4732-8d60-6e0d98cefc05"
      },
      "execution_count": 20,
      "outputs": [
        {
          "output_type": "stream",
          "name": "stdout",
          "text": [
            "El valor mas grande es 81\n"
          ]
        }
      ]
    },
    {
      "cell_type": "code",
      "source": [
        "#como hacer el valor mas pequeño\n",
        "print(\"El valor mas pequeño es\",sn.min())"
      ],
      "metadata": {
        "colab": {
          "base_uri": "https://localhost:8080/"
        },
        "id": "yJI83PFPU4Ij",
        "outputId": "78620026-0001-4c9e-be04-0d23fea2fdbe"
      },
      "execution_count": 21,
      "outputs": [
        {
          "output_type": "stream",
          "name": "stdout",
          "text": [
            "El valor mas pequeño es 12\n"
          ]
        }
      ]
    },
    {
      "cell_type": "code",
      "source": [
        "#como ver la suma acumulada de valores, con cumsum\n",
        "print(sn.cumsum())"
      ],
      "metadata": {
        "colab": {
          "base_uri": "https://localhost:8080/"
        },
        "id": "6aI9IkL5VHJ3",
        "outputId": "3de049a7-d10b-4322-ff74-4d19b2f06c65"
      },
      "execution_count": 22,
      "outputs": [
        {
          "output_type": "stream",
          "name": "stdout",
          "text": [
            "0     12\n",
            "1     70\n",
            "2    133\n",
            "3    180\n",
            "4    261\n",
            "5    296\n",
            "dtype: int64\n"
          ]
        }
      ]
    },
    {
      "cell_type": "code",
      "source": [
        "#ver la cantidad de veces que se repite un valor, value_counts\n",
        "print(sn.value_counts())"
      ],
      "metadata": {
        "colab": {
          "base_uri": "https://localhost:8080/"
        },
        "id": "jrkuShPxVuH8",
        "outputId": "ea47a522-b1d5-4f3e-e14d-ab4928dfacd8"
      },
      "execution_count": 24,
      "outputs": [
        {
          "output_type": "stream",
          "name": "stdout",
          "text": [
            "12    1\n",
            "58    1\n",
            "63    1\n",
            "47    1\n",
            "81    1\n",
            "35    1\n",
            "Name: count, dtype: int64\n"
          ]
        }
      ]
    },
    {
      "cell_type": "code",
      "source": [
        "numeros2=[12,8,5,5,14,3,12,7]\n",
        "sn2=pd.Series(numeros2)\n",
        "print(sn2.value_counts())"
      ],
      "metadata": {
        "colab": {
          "base_uri": "https://localhost:8080/"
        },
        "id": "aqnKU0zqWe2Q",
        "outputId": "7886f4bd-9b38-4818-d3ac-4262ac102f7b"
      },
      "execution_count": 26,
      "outputs": [
        {
          "output_type": "stream",
          "name": "stdout",
          "text": [
            "12    2\n",
            "5     2\n",
            "8     1\n",
            "14    1\n",
            "3     1\n",
            "7     1\n",
            "Name: count, dtype: int64\n"
          ]
        }
      ]
    },
    {
      "cell_type": "code",
      "source": [
        "#La varianza, una medida estadística, que representa la variabilidad de una serie de números con respecto a su media\n",
        "#promig\n",
        "#variància\n",
        "print(sn.var())"
      ],
      "metadata": {
        "colab": {
          "base_uri": "https://localhost:8080/"
        },
        "id": "tuhEXsifWyVx",
        "outputId": "4247e49c-941b-489f-a59a-05d793b82e91"
      },
      "execution_count": 27,
      "outputs": [
        {
          "output_type": "stream",
          "name": "stdout",
          "text": [
            "573.8666666666666\n"
          ]
        }
      ]
    },
    {
      "cell_type": "code",
      "source": [
        "\"\"\"Desviación tipica, es la desviacion media de una variable, respeto de su media aritmetica\"\"\"\n",
        "'''sera con std'''\n",
        "#para evitar decimales podriamos usar round()\n",
        "print(sn.std())"
      ],
      "metadata": {
        "colab": {
          "base_uri": "https://localhost:8080/"
        },
        "id": "8ajV-jjMXx34",
        "outputId": "f31da489-dac0-4593-cab9-30102d3d3c88"
      },
      "execution_count": 28,
      "outputs": [
        {
          "output_type": "stream",
          "name": "stdout",
          "text": [
            "23.95551432690742\n"
          ]
        }
      ]
    },
    {
      "cell_type": "code",
      "source": [
        "#una funcion que nos da un resumen estadistico con DESCRIBE\n",
        "#4 decimals\n",
        "print(round(sn.describe(),4))"
      ],
      "metadata": {
        "colab": {
          "base_uri": "https://localhost:8080/"
        },
        "id": "SQnbnQF_YEX1",
        "outputId": "3b7b2260-c335-4be6-8013-4f0b47cad853"
      },
      "execution_count": 31,
      "outputs": [
        {
          "output_type": "stream",
          "name": "stdout",
          "text": [
            "count     6.0000\n",
            "mean     49.3333\n",
            "std      23.9555\n",
            "min      12.0000\n",
            "25%      38.0000\n",
            "50%      52.5000\n",
            "75%      61.7500\n",
            "max      81.0000\n",
            "dtype: float64\n"
          ]
        }
      ]
    },
    {
      "cell_type": "code",
      "source": [
        "#como aplicar una funcion a cada elemento de una serie\n",
        "#primero crear la funcion\n",
        "def resta3(x):\n",
        "  return x-3     #la funcion esta alojada en el kernel"
      ],
      "metadata": {
        "id": "9-nVHHSVYT7S"
      },
      "execution_count": 32,
      "outputs": []
    },
    {
      "cell_type": "code",
      "source": [
        "#como la aplico\n",
        "#he agafat la llista de números del principi.\n",
        "#NO estem modificant la serie original! CUIDAO!\n",
        "sn.apply(resta3)"
      ],
      "metadata": {
        "colab": {
          "base_uri": "https://localhost:8080/"
        },
        "id": "Da43bJjLZIzA",
        "outputId": "38231d11-6a83-40e4-afff-481736862bf5"
      },
      "execution_count": 33,
      "outputs": [
        {
          "output_type": "execute_result",
          "data": {
            "text/plain": [
              "0     9\n",
              "1    55\n",
              "2    60\n",
              "3    44\n",
              "4    78\n",
              "5    32\n",
              "dtype: int64"
            ]
          },
          "metadata": {},
          "execution_count": 33
        }
      ]
    },
    {
      "cell_type": "code",
      "source": [
        "#Asignar a otro objeto el apply\n",
        "#hemos clonado una funcion\n",
        "snr3 = sn.apply(resta3)\n",
        "snr3"
      ],
      "metadata": {
        "colab": {
          "base_uri": "https://localhost:8080/"
        },
        "id": "Z_SqgFpnZzzD",
        "outputId": "d76c5119-3db2-44d9-f6a8-30d66224e239"
      },
      "execution_count": 34,
      "outputs": [
        {
          "output_type": "execute_result",
          "data": {
            "text/plain": [
              "0     9\n",
              "1    55\n",
              "2    60\n",
              "3    44\n",
              "4    78\n",
              "5    32\n",
              "dtype: int64"
            ]
          },
          "metadata": {},
          "execution_count": 34
        }
      ]
    },
    {
      "cell_type": "code",
      "source": [
        "#como ordenar una serie\n",
        "print(sn.sort_values(ascending=True))   #con true, ascendente"
      ],
      "metadata": {
        "colab": {
          "base_uri": "https://localhost:8080/"
        },
        "id": "ztCJayD3aFMu",
        "outputId": "09b25614-948e-427a-a852-764d4ad223c3"
      },
      "execution_count": 36,
      "outputs": [
        {
          "output_type": "stream",
          "name": "stdout",
          "text": [
            "0    12\n",
            "5    35\n",
            "3    47\n",
            "1    58\n",
            "2    63\n",
            "4    81\n",
            "dtype: int64\n"
          ]
        }
      ]
    },
    {
      "cell_type": "code",
      "source": [
        "print(sn2.sort_values(ascending=True))"
      ],
      "metadata": {
        "colab": {
          "base_uri": "https://localhost:8080/"
        },
        "id": "rcNqMxs2aXQU",
        "outputId": "3ce54544-2538-4104-d788-2a1795afd102"
      },
      "execution_count": 37,
      "outputs": [
        {
          "output_type": "stream",
          "name": "stdout",
          "text": [
            "5     3\n",
            "2     5\n",
            "3     5\n",
            "7     7\n",
            "1     8\n",
            "0    12\n",
            "6    12\n",
            "4    14\n",
            "dtype: int64\n"
          ]
        }
      ]
    },
    {
      "cell_type": "code",
      "source": [
        "print(sn.sort_values(ascending=False))    #con false, descendente"
      ],
      "metadata": {
        "colab": {
          "base_uri": "https://localhost:8080/"
        },
        "id": "XZtviy3oah0y",
        "outputId": "b66a862c-c2b5-4b3f-a9ee-1eb2c1bc40e2"
      },
      "execution_count": 38,
      "outputs": [
        {
          "output_type": "stream",
          "name": "stdout",
          "text": [
            "4    81\n",
            "2    63\n",
            "1    58\n",
            "3    47\n",
            "5    35\n",
            "0    12\n",
            "dtype: int64\n"
          ]
        }
      ]
    },
    {
      "cell_type": "code",
      "source": [
        "print(sn.sort_values(ascending=False, ignore_index=True))    #serie ordenada y reindexada\n",
        "#el pin es de salida. Para jugar con las series hacer clones, no tocar los originales"
      ],
      "metadata": {
        "colab": {
          "base_uri": "https://localhost:8080/"
        },
        "id": "E6qo5n6Casmg",
        "outputId": "739e793b-7fcb-4880-c28d-08cf7bab3fba"
      },
      "execution_count": 39,
      "outputs": [
        {
          "output_type": "stream",
          "name": "stdout",
          "text": [
            "0    81\n",
            "1    63\n",
            "2    58\n",
            "3    47\n",
            "4    35\n",
            "5    12\n",
            "dtype: int64\n"
          ]
        }
      ]
    },
    {
      "cell_type": "code",
      "source": [
        "#Como filtrar con un criterio\n",
        "print(sn[sn>40])"
      ],
      "metadata": {
        "colab": {
          "base_uri": "https://localhost:8080/"
        },
        "id": "GsNC6CUta9lc",
        "outputId": "94a6d134-3141-4249-d9ff-14d99a292652"
      },
      "execution_count": 40,
      "outputs": [
        {
          "output_type": "stream",
          "name": "stdout",
          "text": [
            "1    58\n",
            "2    63\n",
            "3    47\n",
            "4    81\n",
            "dtype: int64\n"
          ]
        }
      ]
    },
    {
      "cell_type": "code",
      "source": [
        "#filtrar i ordenar\n",
        "print(sn[sn>40].sort_values(ascending=True, ignore_index=True))"
      ],
      "metadata": {
        "colab": {
          "base_uri": "https://localhost:8080/"
        },
        "id": "Gw0kjLEibSQb",
        "outputId": "b125f620-feb4-493e-fea4-fbbb9d5aa3a2"
      },
      "execution_count": 41,
      "outputs": [
        {
          "output_type": "stream",
          "name": "stdout",
          "text": [
            "0    47\n",
            "1    58\n",
            "2    63\n",
            "3    81\n",
            "dtype: int64\n"
          ]
        }
      ]
    },
    {
      "cell_type": "code",
      "source": [],
      "metadata": {
        "id": "XTcPq-W_c5Do"
      },
      "execution_count": null,
      "outputs": []
    },
    {
      "cell_type": "markdown",
      "source": [
        "Practica 1: Crearemos una lista con los siguientes numeros 25,17,34,82,124,75,44,63,47,9,81,124,75. Con esta lista crearemos una serie de pandas que se llame NUMEROSVIP, clonaremos la serie para tener solo los numeros mayores de 40 y ademas en orden descendente y reindexado (NUMEROSVIP40), le aplicaremos una funcion que sume 2 y divida por 1.25 a cada elemento de la serie, ver en la lista la cantidad de veces que se repiten los numeros, ver en un texto el promedio de la lista NUMEROSVIP40 con redondeo a 2 decimales.Ver en un texto la desviacion tipica de NUMEROVIP40 (2 decimales), y finalmente, ver en un texto la varianza."
      ],
      "metadata": {
        "id": "n7RpaKdubrCg"
      }
    },
    {
      "cell_type": "code",
      "source": [
        "import pandas as pd\n",
        "\n",
        "NUMEROS=[25,17,34,82,124,75,44,63,47,9,81,124,75]\n",
        "NUMEROSVIP=pd.Series(NUMEROS)    #series en mayus\n",
        "print(NUMEROSVIP)\n",
        "NUMVIP40=NUMEROSVIP[NUMEROSVIP>40].sort_values(ascending=False, ignore_index=True)\n",
        "#Funcion s2d125es\n",
        "def s2d125es(x):\n",
        "  return (x+2)/1.25\n",
        "NUMVIP40 = NUMVIP40.apply(s2d125es)\n",
        "print(NUMVIP40)\n",
        "#veces que se repiten\n",
        "print(NUMVIP40.value_counts())\n",
        "#el promedio con redondeo #el resultat hauria de ser 65.16\n",
        "print((\"El promedio de los numeros de la serie NUMVIP40 es\", round(NUMVIP40.mean(),2)))\n",
        "#la desviacion tipica   #el resultat hauria de ser 22.98\n",
        "print((\"La desviacion tipica de los numeros de la serie NUMVIP40 es\", round(NUMVIP40.std(),2)))\n",
        "##la varianza tipica   #el resultat hauria de ser 527,86\n",
        "print((\"La varianza de los numeros de la serie NUMVIP40 es\", round(NUMVIP40.var(),2)))\n",
        "\n"
      ],
      "metadata": {
        "colab": {
          "base_uri": "https://localhost:8080/"
        },
        "id": "m5Eo6WIbc2Zv",
        "outputId": "1784d3f9-e627-4fc1-f134-1a70cd12c095"
      },
      "execution_count": 91,
      "outputs": [
        {
          "output_type": "stream",
          "name": "stdout",
          "text": [
            "0      25\n",
            "1      17\n",
            "2      34\n",
            "3      82\n",
            "4     124\n",
            "5      75\n",
            "6      44\n",
            "7      63\n",
            "8      47\n",
            "9       9\n",
            "10     81\n",
            "11    124\n",
            "12     75\n",
            "dtype: int64\n",
            "0    100.8\n",
            "1    100.8\n",
            "2     67.2\n",
            "3     66.4\n",
            "4     61.6\n",
            "5     61.6\n",
            "6     52.0\n",
            "7     39.2\n",
            "8     36.8\n",
            "dtype: float64\n",
            "100.8    2\n",
            "61.6     2\n",
            "67.2     1\n",
            "66.4     1\n",
            "52.0     1\n",
            "39.2     1\n",
            "36.8     1\n",
            "Name: count, dtype: int64\n",
            "('El promedio de los numeros de la serie NUMVIP40 es', 65.16)\n",
            "('La desviacion tipica de los numeros de la serie NUMVIP40 es', 22.98)\n",
            "('La varianza de los numeros de la serie NUMVIP40 es', 527.86)\n"
          ]
        }
      ]
    }
  ]
}