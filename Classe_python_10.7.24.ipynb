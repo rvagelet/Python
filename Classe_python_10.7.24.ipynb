{
 "cells": [
  {
   "cell_type": "markdown",
   "metadata": {},
   "source": [
    "Una estrutura if tiene dos opciones de devolucion, es decir si o no. Y si necesitamos más opciones de devolucion? Pues utilizaremos ELIF. Esto básicamente sirve para clasificar un numero en funcion de un tramo.\n",
    "Vamos a suponer que:\n",
    "x = 45"
   ]
  },
  {
   "cell_type": "code",
   "execution_count": null,
   "metadata": {},
   "outputs": [],
   "source": [
    "x=45\n",
    "if x<=40:\n",
    "    print(\"Numero comprendido entre 0 - 40\")\n",
    "elif x<=80:\n",
    "    print(\"Numero comprendido entre >40 - 80\")\n",
    "elif x<=120:\n",
    "    print(\"Numero comprendido entre >80 - 120\")\n",
    "else:\n",
    "      print(\"Numero mayor de 120\")\n",
    "\n",
    "#siempre debe llevar el mismo orden. O bien ascendente o bien descendente."
   ]
  },
  {
   "cell_type": "markdown",
   "metadata": {},
   "source": [
    "Practica 1: Mediante una lista numerica con los siguientes valores\n",
    "13,27,34,87,123,46,61,88,32 y usando un bucle for + un if anidado\n",
    "mostrar un texto para cada número de la lista que ponga el numero x esta comprendido entre x e y\n",
    "el numero 13 esta comprendido entre 0 y 20\n",
    "Se debe clasificar por multiplos de 20 empezando por el 0 y terminando por el 140"
   ]
  },
  {
   "cell_type": "code",
   "execution_count": 8,
   "metadata": {},
   "outputs": [
    {
     "name": "stdout",
     "output_type": "stream",
     "text": [
      "el 13 esta comprendido entre 0 - 20\n",
      "el 27 comprendido entre 20 - 40\n",
      "el 34 comprendido entre 20 - 40\n",
      "el 87 comprendido entre 80 - 100\n",
      "el 123 comprendido entre 120 - 140\n",
      "el 46 omprendido entre 40 - 60\n",
      "el 61 comprendido entre 60 - 80\n",
      "el 88 comprendido entre 80 - 100\n",
      "el 32 comprendido entre 20 - 40\n"
     ]
    }
   ],
   "source": [
    "listanumerica=[13,27,34,87,123,46,61,88,32]\n",
    "for numero in listanumerica:\n",
    "    if numero<=20:\n",
    "        print(\"el\",numero,\"esta comprendido entre 0 - 20\")\n",
    "    elif numero<=40:\n",
    "        print(\"el\",numero,\"comprendido entre 20 - 40\")\n",
    "    elif numero<=60:\n",
    "        print(\"el\",numero,\"omprendido entre 40 - 60\")\n",
    "    elif numero<=80:\n",
    "        print(\"el\",numero,\"comprendido entre 60 - 80\")\n",
    "    elif numero<=100:\n",
    "        print(\"el\",numero,\"comprendido entre 80 - 100\")\n",
    "    elif numero<=120:\n",
    "        print(\"el\",numero,\"comprendido entre 100 - 120\")\n",
    "    elif numero<=140:\n",
    "        print(\"el\",numero,\"comprendido entre 120 - 140\")\n",
    "    else:\n",
    "        print(\"el\",numero,\"esta fuera del rango\")\n",
    "\n"
   ]
  },
  {
   "cell_type": "markdown",
   "metadata": {},
   "source": [
    "Si marques una paraula es marquen totes. Per seleccionar-les totes i poder-les canviar de cop pots anar fent control + d i es van seleccionant totes. D'aquesta manera podrem canviar tot a la vegada."
   ]
  },
  {
   "cell_type": "markdown",
   "metadata": {},
   "source": [
    "Como salir de un bucle FOR. Para salir lo vamos a hacer con la instrucción BRAKE."
   ]
  },
  {
   "cell_type": "code",
   "execution_count": 12,
   "metadata": {},
   "outputs": [
    {
     "name": "stdout",
     "output_type": "stream",
     "text": [
      "es la letra P\n",
      "es la letra y\n",
      "es la letra t\n",
      "es la letra h\n"
     ]
    }
   ],
   "source": [
    "palabra=\"Python\"\n",
    "for letra in palabra:\n",
    "    print(\"es la letra\",letra)\n",
    "    if letra== \"h\":\n",
    "        break     #salir del bucle"
   ]
  },
  {
   "cell_type": "code",
   "execution_count": 13,
   "metadata": {},
   "outputs": [
    {
     "name": "stdout",
     "output_type": "stream",
     "text": [
      "es la letra P\n",
      "es la letra y\n",
      "es la letra t\n"
     ]
    }
   ],
   "source": [
    "palabra=\"Python\"\n",
    "for letra in palabra:\n",
    "    if letra== \"h\":\n",
    "        break     #salir del bucle\n",
    "    else:\n",
    "        print(\"es la letra\",letra)\n"
   ]
  },
  {
   "cell_type": "code",
   "execution_count": 14,
   "metadata": {},
   "outputs": [
    {
     "name": "stdout",
     "output_type": "stream",
     "text": [
      "es la letra P\n",
      "es la letra y\n",
      "es la letra t\n",
      "es la letra o\n",
      "es la letra n\n"
     ]
    }
   ],
   "source": [
    "#Como saltar una iteracion en un bucle con la instruccion CONTINUE\n",
    "#salta la interaccion pero sigue con la siguiente\n",
    "#imprime todas las letras menos la H\n",
    "\n",
    "palabra=\"Python\"\n",
    "for letra in palabra:\n",
    "    if letra== \"h\":\n",
    "        continue     #salir del bucle\n",
    "    else:\n",
    "        print(\"es la letra\",letra)\n"
   ]
  },
  {
   "cell_type": "code",
   "execution_count": 15,
   "metadata": {},
   "outputs": [
    {
     "name": "stdout",
     "output_type": "stream",
     "text": [
      "es la letra S\n",
      "es la letra u\n",
      "es la letra p\n",
      "es la letra e\n",
      "es la letra r\n",
      "es la letra c\n",
      "es la letra l\n",
      "es la letra i\n",
      "es la letra f\n",
      "es la letra r\n",
      "es la letra g\n",
      "es la letra i\n",
      "es la letra l\n",
      "es la letra i\n",
      "es la letra s\n",
      "es la letra t\n",
      "es la letra i\n",
      "es la letra c\n",
      "es la letra o\n",
      "es la letra e\n",
      "es la letra s\n",
      "es la letra p\n",
      "es la letra i\n",
      "es la letra l\n",
      "es la letra i\n",
      "es la letra d\n",
      "es la letra o\n",
      "es la letra s\n",
      "es la letra o\n"
     ]
    }
   ],
   "source": [
    "#Practica 2: imprimir las letras de la palabra \"Supercalifragilisticoespialidoso\", menos las \"a\" \n",
    "\n",
    "#Practica 3: aprovechando la lista numerica anterior imprimir los valores de la lista hasta que la suma de los valores sea mayor de 100.\n",
    "\n",
    "#Practica 4: imprimir mediante un bucle la siguiente lista de ciudades: Barcelona, Murcia, Valencia, Toledo, Bilbao, Salamanca, Teruel, Burgos, Tarragona,\n",
    "# siempre y cuando el numero de caracteres del nombre de la ciudad sea diferente de 6.\n",
    "\n",
    "#practica 2\n",
    "palabra=\"Supercalifragilisticoespialidoso\"\n",
    "for letra in palabra:\n",
    "    if letra== \"a\":\n",
    "        continue     #salir del bucle\n",
    "    else:\n",
    "        print(\"es la letra\",letra)"
   ]
  },
  {
   "cell_type": "code",
   "execution_count": 6,
   "metadata": {},
   "outputs": [
    {
     "name": "stdout",
     "output_type": "stream",
     "text": [
      "13\n",
      "27\n",
      "34\n"
     ]
    }
   ],
   "source": [
    "#Practica 3: aprovechando la lista numerica anterior imprimir los valores de la lista hasta que la suma de los valores imprimidos sea mayor de 100.\n",
    "\n",
    "listanumerica=[13,27,34,87,123,46,61,88,32]\n",
    "iter=0\n",
    "for numero in listanumerica:\n",
    "    iter=iter+numero\n",
    "    if iter<100:\n",
    "        print(numero)\n",
    "    else:\n",
    "        break   \n",
    "        \n"
   ]
  },
  {
   "cell_type": "code",
   "execution_count": 17,
   "metadata": {},
   "outputs": [
    {
     "name": "stdout",
     "output_type": "stream",
     "text": [
      "Barcelona\n",
      "Valencia\n",
      "Salamanca\n",
      "Tarragona\n"
     ]
    }
   ],
   "source": [
    "#Practica 4: imprimir mediante un bucle la siguiente lista de ciudades: Barcelona, Murcia, Valencia, Toledo, Bilbao, Salamanca, Teruel, Burgos, Tarragona,\n",
    "#siempre y cuando el numero de caracteres del nombre de la ciudad sea diferente de 6.\n",
    "\n",
    "ciudades=[\"Barcelona\", \"Murcia\", \"Valencia\", \"Toledo\", \"Bilbao\", \"Salamanca\", \"Teruel\", \"Burgos\", \"Tarragona\"]\n",
    "for palabra in ciudades:\n",
    "    if len(palabra)!=6:    #si la longitud és diferent de 6\n",
    "        print(palabra)"
   ]
  },
  {
   "cell_type": "markdown",
   "metadata": {},
   "source": [
    "Una estructura de decision al estilo switch...case, en este caso match...case"
   ]
  },
  {
   "cell_type": "code",
   "execution_count": 18,
   "metadata": {},
   "outputs": [
    {
     "name": "stdout",
     "output_type": "stream",
     "text": [
      "jueves\n"
     ]
    }
   ],
   "source": [
    "dia = 4\n",
    "match dia:     #buscame el dia\n",
    "    case 1:\n",
    "        print (\"lunes\")\n",
    "    case 2:\n",
    "        print (\"martes\")\n",
    "    case 3:\n",
    "        print (\"miercoles\")\n",
    "    case 4:\n",
    "        print (\"jueves\")\n",
    "    case 5:\n",
    "        print (\"viernes\")\n",
    "    case default:\n",
    "        print (\"no es un dia laborable\")\n"
   ]
  },
  {
   "cell_type": "markdown",
   "metadata": {},
   "source": [
    "Las funciones personalizadas de Python, es decir crear nuestras propias funciones para optimizar codigo.\n",
    "Las funciones permiten tener recursividad, que significa llamar a la misma funcion dentro de la funcion.\n",
    "La primera palabra clave es def, espacio en blanco, el nombre de la funcion warning!! Nada de nombres cone soacios en blanco, ni numeros, ni caracteres especiales. El especio en blanco puede ser substituido por un guion bajo.\n",
    "Parentesis de apertura, dentro de los parametros o valores que yo paso a la funcion, si hay +1 separados por comas, finalmente el paréntesis de cierre y los: de toda línea de estructura o funcion + con identacion.\n",
    "Una cosa es crear la funcion y otra utilizarla, dentro de la funcion no existen objetos externos."
   ]
  },
  {
   "cell_type": "code",
   "execution_count": 26,
   "metadata": {},
   "outputs": [],
   "source": [
    "#La funcion suma10, la opcion A\n",
    "def suma10(x):     #inicializando la funcion\n",
    "    print(x+10)    #me puede devolver un texto o un numero\n",
    "\n",
    "#la opcion B\n",
    "def suma20(x): \n",
    "    return x+20     #solo me devolverá el valor numerico    #return no lleva parentesis\n",
    "\n",
    "#con dos parametros\n",
    "def sumaab(a,b):\n",
    "    print(\"a + b es\", a + b)"
   ]
  },
  {
   "cell_type": "code",
   "execution_count": 23,
   "metadata": {},
   "outputs": [
    {
     "data": {
      "text/plain": [
       "33"
      ]
     },
     "execution_count": 23,
     "metadata": {},
     "output_type": "execute_result"
    }
   ],
   "source": [
    "suma10(13)    #es un texto"
   ]
  },
  {
   "cell_type": "code",
   "execution_count": 24,
   "metadata": {},
   "outputs": [
    {
     "data": {
      "text/plain": [
       "39"
      ]
     },
     "execution_count": 24,
     "metadata": {},
     "output_type": "execute_result"
    }
   ],
   "source": [
    "suma20(13)+6     #es un numero"
   ]
  },
  {
   "cell_type": "code",
   "execution_count": 27,
   "metadata": {},
   "outputs": [
    {
     "name": "stdout",
     "output_type": "stream",
     "text": [
      "a + b es 46\n"
     ]
    }
   ],
   "source": [
    "sumaab(12,34)"
   ]
  },
  {
   "cell_type": "markdown",
   "metadata": {},
   "source": [
    "Practica 5: Hacer una funcion que sume 20 a un numero y lo divida entre 2, que nos devuelva texto"
   ]
  },
  {
   "cell_type": "code",
   "execution_count": 38,
   "metadata": {},
   "outputs": [],
   "source": [
    "def funcion(x):\n",
    "    funcion=((x+20)/2)\n",
    "    print(\"el resultado es\",funcion)\n"
   ]
  },
  {
   "cell_type": "code",
   "execution_count": 39,
   "metadata": {},
   "outputs": [
    {
     "name": "stdout",
     "output_type": "stream",
     "text": [
      "el resultado es 11.5\n"
     ]
    }
   ],
   "source": [
    "funcion(3)"
   ]
  },
  {
   "cell_type": "markdown",
   "metadata": {},
   "source": [
    "Practica 6: Hacer una funcion que pasandole un numero entre el 1 y el 12 nos devuelva un mes en letras. Ojo!! Controlar que no se le pase un número que no sea de este rango."
   ]
  },
  {
   "cell_type": "code",
   "execution_count": 55,
   "metadata": {},
   "outputs": [],
   "source": [
    "def mesos(numero_mes):\n",
    "    match numero_mes:    \n",
    "        case 1:\n",
    "            print (\"enero\")\n",
    "        case 2:\n",
    "            print (\"febrero\")\n",
    "        case 3:\n",
    "            print (\"marzo\")\n",
    "        case 4:\n",
    "            print (\"abril\")\n",
    "        case 5:\n",
    "            print (\"mayo\")\n",
    "        case 6:\n",
    "            print (\"junio\")\n",
    "        case 7:\n",
    "            print (\"julio\")\n",
    "        case 8:\n",
    "            print (\"agosto\")\n",
    "        case 9:\n",
    "            print (\"septiembre\")\n",
    "        case 10:\n",
    "            print (\"octubre\")\n",
    "        case 11:\n",
    "            print (\"noviembre\")\n",
    "        case 12:\n",
    "            print (\"diciembre\")\n",
    "        case default:\n",
    "            print(\"no es correcte\")\n",
    "    "
   ]
  },
  {
   "cell_type": "code",
   "execution_count": 59,
   "metadata": {},
   "outputs": [
    {
     "name": "stdout",
     "output_type": "stream",
     "text": [
      "febrero\n"
     ]
    }
   ],
   "source": [
    "mesos(2)"
   ]
  },
  {
   "cell_type": "markdown",
   "metadata": {},
   "source": [
    "Practica 7: Hacer una funcion que nos devuelva un numero y que calcule el area de un triangulo"
   ]
  },
  {
   "cell_type": "code",
   "execution_count": 88,
   "metadata": {},
   "outputs": [],
   "source": [
    "def triangle(b,h):\n",
    "    angle=((b*h)/2)\n",
    "    print(\"el resultado es\", angle)\n"
   ]
  },
  {
   "cell_type": "code",
   "execution_count": 89,
   "metadata": {},
   "outputs": [
    {
     "name": "stdout",
     "output_type": "stream",
     "text": [
      "el resultado es 4.0\n"
     ]
    }
   ],
   "source": [
    "triangle(2,4)\n"
   ]
  },
  {
   "cell_type": "code",
   "execution_count": 114,
   "metadata": {},
   "outputs": [
    {
     "name": "stdout",
     "output_type": "stream",
     "text": [
      "el resultado es 10.0\n",
      "l'area d'un triangle de base 4 i altura 5 es de None\n"
     ]
    }
   ],
   "source": [
    "print(\"l'area d'un triangle de base 4 i altura 5 es de\",triangle(4,5))"
   ]
  },
  {
   "cell_type": "markdown",
   "metadata": {},
   "source": [
    "Practica 8: Hacer una funcion que compare dos valores a y b y me devuelva con un texto las tres posibilidades existentes\n",
    "a>b\n",
    "a<b\n",
    "a=b"
   ]
  },
  {
   "cell_type": "code",
   "execution_count": 115,
   "metadata": {},
   "outputs": [],
   "source": [
    "def comparaab(a,b):\n",
    "        if a<b:\n",
    "            print(a, \"es mas pequeño que\", b)\n",
    "        elif a>b:\n",
    "            print(a, \"es mas grande que\", b)\n",
    "        else:\n",
    "            print(a, \"es igual que\", b)\n",
    "\n"
   ]
  },
  {
   "cell_type": "code",
   "execution_count": 116,
   "metadata": {},
   "outputs": [
    {
     "name": "stdout",
     "output_type": "stream",
     "text": [
      "3 es mas pequeño que 5\n"
     ]
    }
   ],
   "source": [
    "comparaab(3,5)"
   ]
  },
  {
   "cell_type": "markdown",
   "metadata": {},
   "source": [
    "Practica 9: Aprovechando la funcion de la practica 5, recorrer una lista [18, 36, 75, 29] con un bucle y nos devuelva un texto con el valor despues de llamar a la funcion \"funcion\""
   ]
  },
  {
   "cell_type": "code",
   "execution_count": 134,
   "metadata": {},
   "outputs": [
    {
     "ename": "TypeError",
     "evalue": "'function' object is not iterable",
     "output_type": "error",
     "traceback": [
      "\u001b[1;31m---------------------------------------------------------------------------\u001b[0m",
      "\u001b[1;31mTypeError\u001b[0m                                 Traceback (most recent call last)",
      "Cell \u001b[1;32mIn[134], line 2\u001b[0m\n\u001b[0;32m      1\u001b[0m \u001b[38;5;28;01mfor\u001b[39;00m i \u001b[38;5;129;01min\u001b[39;00m [\u001b[38;5;241m18\u001b[39m, \u001b[38;5;241m36\u001b[39m, \u001b[38;5;241m75\u001b[39m, \u001b[38;5;241m29\u001b[39m]:\n\u001b[1;32m----> 2\u001b[0m     \u001b[43mfuncion\u001b[49m\u001b[43m \u001b[49m\u001b[43m(\u001b[49m\u001b[43mi\u001b[49m\u001b[43m)\u001b[49m\n\u001b[0;32m      6\u001b[0m comprovar\n",
      "Cell \u001b[1;32mIn[111], line 4\u001b[0m, in \u001b[0;36mfuncion\u001b[1;34m(x)\u001b[0m\n\u001b[0;32m      3\u001b[0m \u001b[38;5;28;01mdef\u001b[39;00m \u001b[38;5;21mfuncion\u001b[39m (x):\n\u001b[1;32m----> 4\u001b[0m \u001b[43m    \u001b[49m\u001b[38;5;28;43;01mfor\u001b[39;49;00m\u001b[43m \u001b[49m\u001b[43mlista\u001b[49m\u001b[43m \u001b[49m\u001b[38;5;129;43;01min\u001b[39;49;00m\u001b[43m \u001b[49m\u001b[43mfuncion\u001b[49m\u001b[43m:\u001b[49m\n\u001b[0;32m      5\u001b[0m \u001b[43m        \u001b[49m\u001b[38;5;28;43miter\u001b[39;49m\u001b[43m \u001b[49m\u001b[38;5;241;43m=\u001b[39;49m\u001b[43m \u001b[49m\u001b[38;5;28;43miter\u001b[39;49m\u001b[38;5;241;43m+\u001b[39;49m\u001b[38;5;241;43m1\u001b[39;49m\n\u001b[0;32m      6\u001b[0m \u001b[43m        \u001b[49m\u001b[38;5;28;43mprint\u001b[39;49m\u001b[43m(\u001b[49m\u001b[38;5;124;43m\"\u001b[39;49m\u001b[38;5;124;43mel resultado es\u001b[39;49m\u001b[38;5;124;43m\"\u001b[39;49m\u001b[43m,\u001b[49m\u001b[43m \u001b[49m\u001b[43mx\u001b[49m\u001b[43m)\u001b[49m\n",
      "\u001b[1;31mTypeError\u001b[0m: 'function' object is not iterable"
     ]
    }
   ],
   "source": [
    "for i in [18, 36, 75, 29]:\n",
    "    funcion (i)\n",
    "\n",
    "\n",
    "\n",
    "Està al 4t full\n",
    "        \n"
   ]
  },
  {
   "cell_type": "code",
   "execution_count": 123,
   "metadata": {},
   "outputs": [
    {
     "data": {
      "text/plain": [
       "'vi€rn€s'"
      ]
     },
     "execution_count": 123,
     "metadata": {},
     "output_type": "execute_result"
    }
   ],
   "source": [
    "#funciones de texto Mayus\n",
    "a =\"viernes\"\n",
    "a.upper\n",
    "#---Minus\n",
    "a.lower\n",
    "#sustituir valores replace\n",
    "a.replace(\"e\",\"€\")"
   ]
  },
  {
   "cell_type": "code",
   "execution_count": 124,
   "metadata": {},
   "outputs": [
    {
     "data": {
      "text/plain": [
       "7.94"
      ]
     },
     "execution_count": 124,
     "metadata": {},
     "output_type": "execute_result"
    }
   ],
   "source": [
    "#Como redondear decimales, los decimales los tenemos que escribir con puntos en vez de coma\n",
    "valor = 7.943523513513\n",
    "round(valor,2)"
   ]
  },
  {
   "cell_type": "code",
   "execution_count": 131,
   "metadata": {},
   "outputs": [
    {
     "data": {
      "text/plain": [
       "['la',\n",
       " 'proxima',\n",
       " 'clase',\n",
       " 'sera',\n",
       " 'el',\n",
       " 'viernes,',\n",
       " 'no',\n",
       " 'falteis,',\n",
       " 'se',\n",
       " 'donde',\n",
       " 'vivis']"
      ]
     },
     "execution_count": 131,
     "metadata": {},
     "output_type": "execute_result"
    }
   ],
   "source": [
    "#Una funcion de texto que divide por espacio en blanco\n",
    "palabra =\"la proxima clase sera el viernes, no falteis, se donde vivis\"\n",
    "lista = palabra.split()\n",
    "lista"
   ]
  },
  {
   "cell_type": "code",
   "execution_count": 132,
   "metadata": {},
   "outputs": [
    {
     "data": {
      "text/plain": [
       "'sera'"
      ]
     },
     "execution_count": 132,
     "metadata": {},
     "output_type": "execute_result"
    }
   ],
   "source": [
    "palabra =\"la proxima clase sera el viernes, no falteis, se donde vivis\"\n",
    "lista = palabra.split()    #split divide por espacio en blanco\n",
    "lista[3]"
   ]
  },
  {
   "cell_type": "code",
   "execution_count": 136,
   "metadata": {},
   "outputs": [
    {
     "name": "stdout",
     "output_type": "stream",
     "text": [
      "1\n",
      "2\n",
      "3\n"
     ]
    }
   ],
   "source": [
    "#El bucle infinito con while\n",
    "i = 1\n",
    "while i<=3:\n",
    "    print (i)\n",
    "    i=i+1"
   ]
  },
  {
   "cell_type": "code",
   "execution_count": 138,
   "metadata": {},
   "outputs": [
    {
     "name": "stdout",
     "output_type": "stream",
     "text": [
      "3\n",
      "6\n",
      "9\n",
      "12\n",
      "15\n",
      "18\n",
      "21\n",
      "24\n",
      "27\n",
      "30\n",
      "33\n",
      "36\n",
      "39\n",
      "42\n",
      "45\n",
      "48\n"
     ]
    }
   ],
   "source": [
    "#Practica 10: Mediante un bucle WHILE imprimir una variable i siempre y cuando sea menor de 50 \n",
    "#partiendo de i=3 e incrementandose de 3 en 3\n",
    "\n",
    "i = 3\n",
    "while i<50:\n",
    "    print (i)\n",
    "    i=i+3"
   ]
  }
 ],
 "metadata": {
  "kernelspec": {
   "display_name": "Python 3",
   "language": "python",
   "name": "python3"
  },
  "language_info": {
   "codemirror_mode": {
    "name": "ipython",
    "version": 3
   },
   "file_extension": ".py",
   "mimetype": "text/x-python",
   "name": "python",
   "nbconvert_exporter": "python",
   "pygments_lexer": "ipython3",
   "version": "3.12.4"
  }
 },
 "nbformat": 4,
 "nbformat_minor": 2
}
