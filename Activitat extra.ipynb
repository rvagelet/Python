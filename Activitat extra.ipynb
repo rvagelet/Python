{
 "cells": [
  {
   "cell_type": "code",
   "execution_count": 3,
   "metadata": {},
   "outputs": [
    {
     "name": "stdout",
     "output_type": "stream",
     "text": [
      "['lunes', 'martes', 'miercoles', 'viernes']\n",
      "['lunes', 'martes', 'miercoles', 'viernes', 'sabado']\n",
      "['lunes', 'martes', 'miercoles', 'viernes', 'sabado', 'domingo']\n",
      "['lunes', 'martes', 'miercoles', 'jueves', 'viernes', 'sabado', 'domingo']\n",
      "['lunes', 'martes', 'miercoles', 'jueves', 'viernes', 'sabado', 'domingo', 'viernes', 'viernes']\n",
      "el numero de elementos de mi lista es 9\n"
     ]
    }
   ],
   "source": [
    "milistasemana=[\"lunes\",\"martes\",\"miercoles\",\"viernes\"]\n",
    "print(milistasemana)\n",
    "milistasemana.append(\"sabado\")\n",
    "print(milistasemana)\n",
    "milistasemana.append(\"domingo\")\n",
    "print(milistasemana)\n",
    "milistasemana.insert(3,\"jueves\")\n",
    "print(milistasemana)\n",
    "milistasemana.append(\"viernes\")\n",
    "milistasemana.append(\"viernes\")\n",
    "print(milistasemana)\n",
    "cantidad=len(milistasemana)       #llargada (quantitat de paraules)\n",
    "print(\"el numero de elementos de mi lista es\",cantidad)"
   ]
  }
 ],
 "metadata": {
  "kernelspec": {
   "display_name": "Python 3",
   "language": "python",
   "name": "python3"
  },
  "language_info": {
   "codemirror_mode": {
    "name": "ipython",
    "version": 3
   },
   "file_extension": ".py",
   "mimetype": "text/x-python",
   "name": "python",
   "nbconvert_exporter": "python",
   "pygments_lexer": "ipython3",
   "version": "3.12.4"
  }
 },
 "nbformat": 4,
 "nbformat_minor": 2
}
