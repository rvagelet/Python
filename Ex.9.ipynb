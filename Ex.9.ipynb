{
 "cells": [
  {
   "cell_type": "code",
   "execution_count": 2,
   "metadata": {},
   "outputs": [],
   "source": [
    "def funcion(x):\n",
    "    funcion=((x+20)/2)\n",
    "    print(\"el resultado es\",funcion)"
   ]
  },
  {
   "cell_type": "code",
   "execution_count": 3,
   "metadata": {},
   "outputs": [
    {
     "name": "stdout",
     "output_type": "stream",
     "text": [
      "el resultado es 19.0\n",
      "el resultado es 28.0\n",
      "el resultado es 47.5\n",
      "el resultado es 24.5\n"
     ]
    }
   ],
   "source": [
    "#Practica 9: Aprovechando la funcion de la practica 5, recorrer una lista [18, 36, 75, 29] \n",
    "# con un bucle y nos devuelva un texto con el valor despues de llamar a la funcion \"funcion\"\n",
    "\n",
    "for i in [18, 36, 75, 29]:\n",
    "    funcion (i)"
   ]
  }
 ],
 "metadata": {
  "kernelspec": {
   "display_name": "Python 3",
   "language": "python",
   "name": "python3"
  },
  "language_info": {
   "codemirror_mode": {
    "name": "ipython",
    "version": 3
   },
   "file_extension": ".py",
   "mimetype": "text/x-python",
   "name": "python",
   "nbconvert_exporter": "python",
   "pygments_lexer": "ipython3",
   "version": "3.12.4"
  }
 },
 "nbformat": 4,
 "nbformat_minor": 2
}
